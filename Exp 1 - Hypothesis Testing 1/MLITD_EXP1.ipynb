{
  "nbformat": 4,
  "nbformat_minor": 0,
  "metadata": {
    "colab": {
      "provenance": []
    },
    "kernelspec": {
      "name": "python3",
      "display_name": "Python 3"
    },
    "language_info": {
      "name": "python"
    }
  },
  "cells": [
    {
      "cell_type": "code",
      "execution_count": null,
      "metadata": {
        "colab": {
          "base_uri": "https://localhost:8080/"
        },
        "id": "5JZXaK5Y5uMT",
        "outputId": "ddcd9c71-fdbd-46bb-c869-3b48fb13944c"
      },
      "outputs": [
        {
          "output_type": "stream",
          "name": "stdout",
          "text": [
            "---------DataSet----------\n",
            "      Time Weather Temperature Company Humidity    Wind Goes\n",
            "0  Morning   Sunny        Warm     Yes     Mild  Strong  Yes\n",
            "1  Evening   Rainy        Cold      No     Mild  Normal   No\n",
            "2  Morning   Sunny    Moderate     Yes   Normal  Normal  Yes\n",
            "3  Evening   Sunny        Cold     Yes     High  Strong  Yes\n",
            "\n",
            "\n",
            "---------Attributes----------\n",
            "The attributes are:  [['Morning' 'Sunny' 'Warm' 'Yes' 'Mild' 'Strong']\n",
            " ['Evening' 'Rainy' 'Cold' 'No' 'Mild' 'Normal']\n",
            " ['Morning' 'Sunny' 'Moderate' 'Yes' 'Normal' 'Normal']\n",
            " ['Evening' 'Sunny' 'Cold' 'Yes' 'High' 'Strong']]\n",
            "\n",
            "\n",
            "---------Targets----------\n",
            "The target is:  ['Yes' 'No' 'Yes' 'Yes']\n",
            "\n",
            "\n",
            "---------Hypothesis----------\n",
            "The final hypothesis is: ['?' 'Sunny' '?' 'Yes' '?' '?']\n"
          ]
        }
      ],
      "source": [
        "import pandas as pd\n",
        "import numpy as np\n",
        "\n",
        "df = pd.read_csv(\"goesexp1.csv\")\n",
        "print(\"---------DataSet----------\")\n",
        "print(df)\n",
        "print(\"\\n\")\n",
        "d = np.array(df)[:,:-1]\n",
        "print(\"---------Attributes----------\")\n",
        "print(\"The attributes are: \",d)\n",
        "print(\"\\n\")\n",
        "target = np.array(df)[:,-1]\n",
        "print(\"---------Targets----------\")\n",
        "print(\"The target is: \",target)\n",
        "print(\"\\n\")\n",
        "\n",
        "def find_s(concepts, targets):\n",
        "    specific_hypothesis = None\n",
        "    for i, target in enumerate(targets):\n",
        "        if target == \"Yes\":\n",
        "            specific_hypothesis = concepts[i].copy()\n",
        "            break\n",
        "\n",
        "    for i, concept in enumerate(concepts):\n",
        "        if targets[i] == \"Yes\":\n",
        "            for x in range(len(specific_hypothesis)):\n",
        "                if concept[x] != specific_hypothesis[x]:\n",
        "                    specific_hypothesis[x] = '?'\n",
        "                else:\n",
        "                    pass\n",
        "\n",
        "    return specific_hypothesis\n",
        "print(\"---------Hypothesis----------\")\n",
        "print(\"The final hypothesis is:\",find_s(d,target))\n"
      ]
    },
    {
      "cell_type": "code",
      "source": [],
      "metadata": {
        "id": "fKTAmyjd6rKw"
      },
      "execution_count": null,
      "outputs": []
    }
  ]
}